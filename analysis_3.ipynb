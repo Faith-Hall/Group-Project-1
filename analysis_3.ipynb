{
 "cells": [
  {
   "cell_type": "markdown",
   "metadata": {},
   "source": [
    "Analysis 3:  \n",
    "Is the life expectancy affected by type of energy consumption (renewable vs fossil fuels) globally?"
   ]
  },
  {
   "cell_type": "code",
   "execution_count": null,
   "metadata": {},
   "outputs": [],
   "source": [
    "# Import Dependencies\n",
    "import pandas as pd\n",
    "import numpy as np\n",
    "from pathlib import Path\n",
    "import pandas as pd\n",
    "import matplotlib.pyplot as plt"
   ]
  },
  {
   "cell_type": "code",
   "execution_count": null,
   "metadata": {},
   "outputs": [],
   "source": [
    "# Make a reference to the csv file path\n",
    "csv_path = Path(\"energyLEclean_NA.csv\")\n",
    "\n",
    "# Import the csv file as a DataFrame\n",
    "data_df = pd.read_csv(csv_path)\n",
    "\n",
    "# check the df\n",
    "data_df.head()"
   ]
  },
  {
   "cell_type": "code",
   "execution_count": null,
   "metadata": {},
   "outputs": [],
   "source": [
    "# Reduce df to only columns needed for this analysis\n",
    "# Only keep year, energy source, and LEx\n",
    "reduced_df = data_df[[\"Year\", \"fossil_energy_per_capita\", \"renewables_energy_per_capita\", \"LEx\"]]\n",
    "reduced_df.head()\n",
    "\n",
    "# Description of the columns:\n",
    "# - Year: year in which survey was conducted.\n",
    "# - fossil_energy_per_capita: Per capita fossil fuel consumption, measured in kilowatt-hours. This is the sum of primary energy from coal, oil and gas.\n",
    "# - renewables_energy_per_capita: Per capita primary energy consumption from renewables, measured in kilowatt-hours\n",
    "# - LEx: Life expectancy (as assessed from time of birth)"
   ]
  },
  {
   "cell_type": "code",
   "execution_count": null,
   "metadata": {},
   "outputs": [],
   "source": [
    "# Rename the headers to be more explanatory and export to a csv\n",
    "energy_sources_LE_df = reduced_df.rename(columns={\"fossil_energy_per_capita\": \"Fossil Fuel Energy Sources\",\n",
    "                                        \"renewables_energy_per_capita\": \"Renewable Energy Sources\",\n",
    "                                        \"LEx\" : \"Life Expectancy From Birth\"})\n",
    "energy_sources_LE_df.to_csv(\"energyLEclean_NA_energy_sources\", index = False)\n",
    "energy_sources_LE_df.head()"
   ]
  },
  {
   "cell_type": "code",
   "execution_count": null,
   "metadata": {},
   "outputs": [],
   "source": [
    "energy_sources_LE_df.tail()"
   ]
  },
  {
   "cell_type": "code",
   "execution_count": null,
   "metadata": {},
   "outputs": [],
   "source": [
    "# Group by years for sums and averages per year\n",
    "\n",
    "# Global Fossil Fuels Groupby\n",
    "global_fossil_fuels = energy_sources_LE_df.groupby(\"Year\")[\"Fossil Fuel Energy Sources\"].sum()\n",
    "global_fossil_fuels_sum = global_fossil_fuels.reset_index(drop=True)\n",
    "\n",
    "# Global Renewable Fuels Groupby\n",
    "global_renewable_fuels = energy_sources_LE_df.groupby(\"Year\")[\"Renewable Energy Sources\"].sum()\n",
    "global_renewable_fuels_sum = global_renewable_fuels.reset_index(drop=True)\n",
    "\n",
    "# Global average LE by year\n",
    "global_LE = energy_sources_LE_df.groupby(\"Year\")[\"Life Expectancy From Birth\"].mean()\n",
    "global_avg_LE = global_LE.reset_index(drop=True)\n",
    "\n",
    "# years\n",
    "years_array = energy_sources_LE_df[\"Year\"].unique()\n",
    "years = years_array.tolist()\n"
   ]
  },
  {
   "cell_type": "code",
   "execution_count": null,
   "metadata": {},
   "outputs": [],
   "source": [
    "# Create New Dataframe with above groupby values\n",
    "\n",
    "global_energy_by_year_df = pd.DataFrame({\"Year\" : years,\n",
    "                             \"Fossil Fuel Energy Sources\" : global_fossil_fuels_sum,\n",
    "                             \"Renewable Energy Sources\" : global_renewable_fuels_sum,\n",
    "                             \"Life Expectancy From Birth\" : global_avg_LE})\n",
    "\n",
    "global_energy_by_year_df"
   ]
  },
  {
   "cell_type": "code",
   "execution_count": null,
   "metadata": {},
   "outputs": [],
   "source": [
    "# Set variables to graph for 1965\n",
    "global_fossil_1965 = (global_energy_by_year_df.loc[0][\"Fossil Fuel Energy Sources\"])\n",
    "global_renewable_1965 = (global_energy_by_year_df.loc[0][\"Renewable Energy Sources\"])\n",
    "global_LE_1965 = (global_energy_by_year_df.loc[0][\"Life Expectancy From Birth\"])\n",
    "\n",
    "# Set variables to graph for 2022\n",
    "global_fossil_2022 = (global_energy_by_year_df.loc[57][\"Fossil Fuel Energy Sources\"])\n",
    "global_renewable_2022 = (global_energy_by_year_df.loc[57][\"Renewable Energy Sources\"])\n",
    "global_LE_2022 = (global_energy_by_year_df.loc[57][\"Life Expectancy From Birth\"])\n"
   ]
  },
  {
   "cell_type": "code",
   "execution_count": null,
   "metadata": {},
   "outputs": [],
   "source": [
    "# graphs 1965\n",
    "# Acknowledgement: https://www.geeksforgeeks.org/plot-a-pie-chart-in-python-using-matplotlib/\n",
    "# primary energy sources (world) 1965\n",
    "\n",
    "labels = [\"Fossil Fuels\", \"Renewables\"]\n",
    "data = [global_fossil_1965, global_renewable_1965]\n",
    "explode = (0.1, 0.0)\n",
    "colors = (\"beige\", \"green\")\n",
    "\n",
    "# wedge properties\n",
    "wp = {'linewidth' : 1, 'edgecolor' : \"black\"}\n",
    "\n",
    "# create autopct arguments\n",
    "def func(pct, allvalues) :\n",
    "    absolute = int(pct / 100.*np.sum(allvalues))\n",
    "    return \"{:.1f}%\\n({:d} kWh)\".format(pct, absolute)\n",
    "\n",
    "fig1, fig_1965 = plt.subplots(figsize = (10, 7))\n",
    "wedges, texts, autotexts = fig_1965.pie(data,\n",
    "                                        autopct = lambda pct : func(pct, data),\n",
    "                                        explode = explode,\n",
    "                                        labels = labels,\n",
    "                                        shadow = False,\n",
    "                                        colors = colors,\n",
    "                                        startangle = 0,\n",
    "                                        wedgeprops = wp,\n",
    "                                        textprops = dict(color = \"black\"))\n",
    "\n",
    "# add legend\n",
    "fig_1965.legend(wedges, labels,\n",
    "                title = \"Energy Sources\",\n",
    "                loc = \"center left\",\n",
    "                bbox_to_anchor = (1, 0, 0.5, 1))\n",
    "\n",
    "plt.setp(autotexts, size = 15, weight =\"bold\")\n",
    "fig_1965.set_title(f\"Global Energy Use: 1965 \\n Global Life Expectancy: {global_LE_1965:.2f} Years\")\n",
    "\n",
    "# show plot\n",
    "plt.show()\n",
    "\n",
    "\n",
    "\n"
   ]
  },
  {
   "cell_type": "code",
   "execution_count": null,
   "metadata": {},
   "outputs": [],
   "source": [
    "# graphs 2022\n",
    "# Acknowledgement: https://www.geeksforgeeks.org/plot-a-pie-chart-in-python-using-matplotlib/\n",
    "# primary energy sources (world) 1965\n",
    "\n",
    "labels = [\"Fossil Fuels\", \"Renewables\"]\n",
    "data = [global_fossil_2022, global_renewable_2022]\n",
    "explode = (0.1, 0.0)\n",
    "colors = (\"beige\", \"green\")\n",
    "\n",
    "# wedge properties\n",
    "wp = {'linewidth' : 1, 'edgecolor' : \"black\"}\n",
    "\n",
    "# create autopct arguments\n",
    "def func(pct, allvalues) :\n",
    "    absolute = int(pct / 100.*np.sum(allvalues))\n",
    "    return \"{:.1f}%\\n({:d} kWh)\".format(pct, absolute)\n",
    "\n",
    "fig2, fig_1965 = plt.subplots(figsize = (10, 7))\n",
    "wedges, texts, autotexts = fig_1965.pie(data,\n",
    "                                        autopct = lambda pct : func(pct, data),\n",
    "                                        explode = explode,\n",
    "                                        labels = labels,\n",
    "                                        shadow = False,\n",
    "                                        colors = colors,\n",
    "                                        startangle = 0,\n",
    "                                        wedgeprops = wp,\n",
    "                                        textprops = dict(color = \"black\"))\n",
    "\n",
    "# add legend\n",
    "fig_1965.legend(wedges, labels,\n",
    "                title = \"Energy Sources\",\n",
    "                loc = \"center left\",\n",
    "                bbox_to_anchor = (1, 0, 0.5, 1))\n",
    "\n",
    "plt.setp(autotexts, size = 15, weight =\"bold\")\n",
    "fig_1965.set_title(f\"Global Energy Use: 2022 \\n Global Life Expectancy: {global_LE_2022:.2f} Years\")\n",
    "\n",
    "# show plot\n",
    "plt.show()"
   ]
  },
  {
   "cell_type": "code",
   "execution_count": null,
   "metadata": {},
   "outputs": [],
   "source": [
    "# Graph Life Expectancy, fossil Fuel Use, and Renewable Energy Use over time\n",
    "# Acknowledgement: Thank you Cassia Yoon!\n",
    "fig3, general_global_trends = plt.subplots()\n",
    "\n",
    "color = 'tab:blue'\n",
    "general_global_trends.set_xlabel('Years')\n",
    "general_global_trends.set_ylabel('Energy Consumption (kWh)', color=color)\n",
    "general_global_trends.set_title(\"Global Trends in \\n Energy Consumption and Life Expectancy\")\n",
    "general_global_trends.plot(years, global_fossil_fuels_sum , color=color, marker='^', label='Fossil Fuel')\n",
    "general_global_trends.plot(years, global_renewable_fuels_sum, color=color, marker='s', label='Renewable Energy')\n",
    "general_global_trends.tick_params(axis='y', labelcolor=color)\n",
    "\n",
    "general_global_trends_2 = general_global_trends.twinx()  # create a second axes that shares the same x-axis\n",
    "\n",
    "color = 'tab:green'\n",
    "general_global_trends_2.set_ylabel('Life Expectancy at Birth (years)', color=color)\n",
    "general_global_trends_2.plot(years, global_avg_LE, color=color, marker='o', label='Life Expectancy at Birth')\n",
    "general_global_trends_2.tick_params(axis='y', labelcolor=color)\n",
    "\n",
    "fig3.tight_layout()\n",
    "fig3.legend(bbox_to_anchor = (1.0, .5), loc='center left')\n",
    "plt.show()\n"
   ]
  }
 ],
 "metadata": {
  "kernelspec": {
   "display_name": "dev",
   "language": "python",
   "name": "python3"
  },
  "language_info": {
   "codemirror_mode": {
    "name": "ipython",
    "version": 3
   },
   "file_extension": ".py",
   "mimetype": "text/x-python",
   "name": "python",
   "nbconvert_exporter": "python",
   "pygments_lexer": "ipython3",
   "version": "3.10.12"
  },
  "orig_nbformat": 4
 },
 "nbformat": 4,
 "nbformat_minor": 2
}
