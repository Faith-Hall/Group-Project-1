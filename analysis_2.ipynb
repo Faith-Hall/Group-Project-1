{
 "cells": [
  {
   "cell_type": "markdown",
   "metadata": {},
   "source": [
    "Analysis 2:   \n",
    "Does higher energy consumption affect life expectancy (broken down by continents)?"
   ]
  },
  {
   "cell_type": "code",
   "execution_count": null,
   "metadata": {},
   "outputs": [],
   "source": [
    "# Import Dependencies\n",
    "\n",
    "import matplotlib.pyplot as plt\n",
    "import numpy as np\n",
    "import pandas as pd\n",
    "from pathlib import Path\n",
    "import matplotlib.pyplot as plt\n",
    "import textwrap"
   ]
  },
  {
   "cell_type": "code",
   "execution_count": null,
   "metadata": {},
   "outputs": [],
   "source": [
    "# Make a reference to the csv file path\n",
    "csv_path = Path(\"energyLEclean_NA.csv\")\n",
    "\n",
    "# Import the csv file as a DataFrame\n",
    "data_df = pd.read_csv(csv_path)\n",
    "\n",
    "# Check the df\n",
    "data_df.head()"
   ]
  },
  {
   "cell_type": "code",
   "execution_count": null,
   "metadata": {},
   "outputs": [],
   "source": [
    "# Reduce df to only columns needed for this analysis\n",
    "reduced_df = data_df[[\"Year\", \"Location\", \"energy_per_capita\", \"LEx\",\"LE15\", \"LE65\", \"LE80\"]]\n",
    "reduced_df.head()"
   ]
  },
  {
   "cell_type": "code",
   "execution_count": null,
   "metadata": {},
   "outputs": [],
   "source": [
    "# Looking at 2021 by continent, country, income groupings\n",
    "#reduced_df.loc[reduced_df[\"Location\"].isin(['Africa', 'Antarctica', 'Asia','Europe','North America','Oceana','South America'])]\n",
    "\n",
    "new_df = reduced_df.loc[reduced_df[\"Location\"].isin(['Africa', 'Antarctica', 'Asia','Europe','North America','Oceania','South America'])]\n",
    "#new_df.head()\n",
    "one_year_df = new_df[(new_df['Year'] == 2021)]\n",
    "one_year_df.head(10)"
   ]
  },
  {
   "cell_type": "code",
   "execution_count": null,
   "metadata": {},
   "outputs": [],
   "source": [
    "# Columns for 2021 by continent\n",
    "# setting up columns for 2021 df energy by continent\n",
    "continents = one_year_df[\"Location\"]\n",
    "LEx1 = one_year_df[\"LEx\"]\n",
    "\n",
    "energy_per_capita1 = one_year_df['energy_per_capita']\n",
    "\n",
    "\n"
   ]
  },
  {
   "cell_type": "code",
   "execution_count": null,
   "metadata": {},
   "outputs": [],
   "source": [
    "#Plot bar graph for Energy and LEx for 2021\n",
    "\n",
    "x = continents[0:6]\n",
    "y1 = energy_per_capita1[0:6]\n",
    "y2 = LEx1[0:6]\n",
    "fig, (ax1, ax2) = plt.subplots(1,2, sharex = True) \n",
    "\n",
    "ax1.bar(x,y1, color=['green', 'red', 'purple', 'blue', 'cyan', 'yellow'])\n",
    "ax2.bar(x,y2,  color=['green', 'red', 'purple', 'blue', 'cyan', 'yellow'])\n",
    "\n",
    "#first graph formatting\n",
    "ax1.set_title(\"Per Capita Energy Consumption and\", fontsize = 10)\n",
    "ax1.set_ylabel(\"kWh Energy Consumption Per Capita\")\n",
    "ax1.set_xlabel(\"Continent\", fontsize = 15)\n",
    "ax1.tick_params(labelrotation=90)\n",
    "\n",
    "\n",
    "#second graph formatting\n",
    "ax2.set_title(\"Life Expectancy at Birth in 2021 by Continent\", fontsize = 10)\n",
    "ax2.set_ylabel(\"Life Expenctancy at Birth\")\n",
    "ax2.set_xlabel(\"Continent\", fontsize = 15)\n",
    "ax2.tick_params(labelrotation=90)\n",
    "\n",
    "plt.tight_layout()\n",
    "\n"
   ]
  },
  {
   "cell_type": "code",
   "execution_count": null,
   "metadata": {},
   "outputs": [],
   "source": [
    "# Looking at 1965 by continent, country, income groupings\n",
    "#reduced_df.loc[reduced_df[\"Location\"].isin(['Africa', 'Antarctica', 'Asia','Europe','North America','Oceana','South America'])]\n",
    "\n",
    "new_df = reduced_df.loc[reduced_df[\"Location\"].isin(['Africa', 'Antarctica', 'Asia','Europe','North America','Oceania','South America'])]\n",
    "#new_df.head()\n",
    "two_year_df = new_df[(new_df['Year'] == 1965)]\n",
    "two_year_df.head(10)"
   ]
  },
  {
   "cell_type": "code",
   "execution_count": null,
   "metadata": {},
   "outputs": [],
   "source": [
    "# Columns for 1965 by continent\n",
    "# setting up columns for 1965 df energy by continent\n",
    "continents = two_year_df[\"Location\"]\n",
    "LEx = two_year_df[\"LEx\"]\n",
    "\n",
    "energy_per_capita = two_year_df['energy_per_capita']"
   ]
  },
  {
   "cell_type": "code",
   "execution_count": null,
   "metadata": {},
   "outputs": [],
   "source": [
    "x = continents[0:6]\n",
    "y1 = energy_per_capita[0:6]\n",
    "y2 = LEx[0:6]\n",
    "fig, (ax1 ,ax2) = plt.subplots(1,2, sharex = True)\n",
    "                                \n",
    "ax1.bar(x,y1, color=['green', 'red', 'purple', 'blue', 'cyan', 'yellow'])\n",
    "ax2.bar(x,y2,  color=['green', 'red', 'purple', 'blue', 'cyan', 'yellow'])\n",
    "\n",
    "ax1.set_title(\"Per Capita Energy Consumption and\", fontsize = 10)\n",
    "ax1.set_ylabel(\"kWh Energy Consumption Per Capita\")\n",
    "ax1.set_xlabel(\"Continent\", fontsize =15)\n",
    "ax1.tick_params(labelrotation=90)\n",
    "\n",
    "ax2.set_title(\"Life Expectancy at Birth in 1965 by Continent\", fontsize = 10)\n",
    "ax2.set_ylabel(\"Life Expectancy at Birth\")\n",
    "ax2.set_xlabel(\"Continent\", fontsize =15)\n",
    "ax2.tick_params(labelrotation=90)\n",
    "plt.tight_layout()\n"
   ]
  }
 ],
 "metadata": {
  "kernelspec": {
   "display_name": "dev",
   "language": "python",
   "name": "python3"
  },
  "language_info": {
   "codemirror_mode": {
    "name": "ipython",
    "version": 3
   },
   "file_extension": ".py",
   "mimetype": "text/x-python",
   "name": "python",
   "nbconvert_exporter": "python",
   "pygments_lexer": "ipython3",
   "version": "3.10.12"
  },
  "orig_nbformat": 4
 },
 "nbformat": 4,
 "nbformat_minor": 2
}
