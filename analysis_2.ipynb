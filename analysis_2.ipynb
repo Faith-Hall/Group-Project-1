{
 "cells": [
  {
   "cell_type": "markdown",
   "metadata": {},
   "source": [
    "Analysis 2:   \n",
    "Does higher energy consumption affect life expectancy (broken down by continents)?"
   ]
  },
  {
   "cell_type": "code",
   "execution_count": 1,
   "metadata": {},
   "outputs": [],
   "source": [
    "# Import Dependencies\n",
    "\n",
    "import matplotlib.pyplot as plt\n",
    "import numpy as np\n",
    "import pandas as pd\n",
    "from pathlib import Path\n",
    "import matplotlib.pyplot as plt"
   ]
  },
  {
   "cell_type": "code",
   "execution_count": 2,
   "metadata": {},
   "outputs": [
    {
     "data": {
      "text/html": [
       "<div>\n",
       "<style scoped>\n",
       "    .dataframe tbody tr th:only-of-type {\n",
       "        vertical-align: middle;\n",
       "    }\n",
       "\n",
       "    .dataframe tbody tr th {\n",
       "        vertical-align: top;\n",
       "    }\n",
       "\n",
       "    .dataframe thead th {\n",
       "        text-align: right;\n",
       "    }\n",
       "</style>\n",
       "<table border=\"1\" class=\"dataframe\">\n",
       "  <thead>\n",
       "    <tr style=\"text-align: right;\">\n",
       "      <th></th>\n",
       "      <th>Unnamed: 0</th>\n",
       "      <th>Location</th>\n",
       "      <th>Year</th>\n",
       "      <th>population</th>\n",
       "      <th>fossil_energy_per_capita</th>\n",
       "      <th>renewables_energy_per_capita</th>\n",
       "      <th>energy_per_capita</th>\n",
       "      <th>Record Counter</th>\n",
       "      <th>LEx</th>\n",
       "      <th>LE15</th>\n",
       "      <th>LE65</th>\n",
       "      <th>LE80</th>\n",
       "    </tr>\n",
       "  </thead>\n",
       "  <tbody>\n",
       "    <tr>\n",
       "      <th>0</th>\n",
       "      <td>87</td>\n",
       "      <td>Africa</td>\n",
       "      <td>1965</td>\n",
       "      <td>321447378.0</td>\n",
       "      <td>2100.505</td>\n",
       "      <td>127.918</td>\n",
       "      <td>2228.423</td>\n",
       "      <td>27</td>\n",
       "      <td>43.4401</td>\n",
       "      <td>45.7137</td>\n",
       "      <td>11.2665</td>\n",
       "      <td>4.9844</td>\n",
       "    </tr>\n",
       "    <tr>\n",
       "      <th>1</th>\n",
       "      <td>88</td>\n",
       "      <td>Africa</td>\n",
       "      <td>1966</td>\n",
       "      <td>329658389.0</td>\n",
       "      <td>2136.364</td>\n",
       "      <td>139.123</td>\n",
       "      <td>2275.487</td>\n",
       "      <td>27</td>\n",
       "      <td>43.4330</td>\n",
       "      <td>45.6340</td>\n",
       "      <td>11.2447</td>\n",
       "      <td>4.9787</td>\n",
       "    </tr>\n",
       "    <tr>\n",
       "      <th>2</th>\n",
       "      <td>89</td>\n",
       "      <td>Africa</td>\n",
       "      <td>1967</td>\n",
       "      <td>338159967.0</td>\n",
       "      <td>2099.772</td>\n",
       "      <td>141.577</td>\n",
       "      <td>2241.349</td>\n",
       "      <td>27</td>\n",
       "      <td>43.6456</td>\n",
       "      <td>45.5410</td>\n",
       "      <td>11.2492</td>\n",
       "      <td>4.9786</td>\n",
       "    </tr>\n",
       "    <tr>\n",
       "      <th>3</th>\n",
       "      <td>90</td>\n",
       "      <td>Africa</td>\n",
       "      <td>1968</td>\n",
       "      <td>346980412.0</td>\n",
       "      <td>2145.930</td>\n",
       "      <td>161.394</td>\n",
       "      <td>2307.324</td>\n",
       "      <td>27</td>\n",
       "      <td>44.1023</td>\n",
       "      <td>45.8270</td>\n",
       "      <td>11.3158</td>\n",
       "      <td>4.9931</td>\n",
       "    </tr>\n",
       "    <tr>\n",
       "      <th>4</th>\n",
       "      <td>91</td>\n",
       "      <td>Africa</td>\n",
       "      <td>1969</td>\n",
       "      <td>356070643.0</td>\n",
       "      <td>2126.871</td>\n",
       "      <td>183.537</td>\n",
       "      <td>2310.408</td>\n",
       "      <td>27</td>\n",
       "      <td>44.3156</td>\n",
       "      <td>45.8841</td>\n",
       "      <td>11.3276</td>\n",
       "      <td>4.9919</td>\n",
       "    </tr>\n",
       "  </tbody>\n",
       "</table>\n",
       "</div>"
      ],
      "text/plain": [
       "   Unnamed: 0 Location  Year   population  fossil_energy_per_capita  \\\n",
       "0          87   Africa  1965  321447378.0                  2100.505   \n",
       "1          88   Africa  1966  329658389.0                  2136.364   \n",
       "2          89   Africa  1967  338159967.0                  2099.772   \n",
       "3          90   Africa  1968  346980412.0                  2145.930   \n",
       "4          91   Africa  1969  356070643.0                  2126.871   \n",
       "\n",
       "   renewables_energy_per_capita  energy_per_capita  Record Counter      LEx  \\\n",
       "0                       127.918           2228.423              27  43.4401   \n",
       "1                       139.123           2275.487              27  43.4330   \n",
       "2                       141.577           2241.349              27  43.6456   \n",
       "3                       161.394           2307.324              27  44.1023   \n",
       "4                       183.537           2310.408              27  44.3156   \n",
       "\n",
       "      LE15     LE65    LE80  \n",
       "0  45.7137  11.2665  4.9844  \n",
       "1  45.6340  11.2447  4.9787  \n",
       "2  45.5410  11.2492  4.9786  \n",
       "3  45.8270  11.3158  4.9931  \n",
       "4  45.8841  11.3276  4.9919  "
      ]
     },
     "execution_count": 2,
     "metadata": {},
     "output_type": "execute_result"
    }
   ],
   "source": [
    "# Make a reference to the csv file path\n",
    "csv_path = Path(\"energyLEclean_NA.csv\")\n",
    "\n",
    "# Import the csv file as a DataFrame\n",
    "data_df = pd.read_csv(csv_path)\n",
    "\n",
    "# Check the df\n",
    "data_df.head()"
   ]
  },
  {
   "cell_type": "code",
   "execution_count": 14,
   "metadata": {},
   "outputs": [
    {
     "data": {
      "text/html": [
       "<div>\n",
       "<style scoped>\n",
       "    .dataframe tbody tr th:only-of-type {\n",
       "        vertical-align: middle;\n",
       "    }\n",
       "\n",
       "    .dataframe tbody tr th {\n",
       "        vertical-align: top;\n",
       "    }\n",
       "\n",
       "    .dataframe thead th {\n",
       "        text-align: right;\n",
       "    }\n",
       "</style>\n",
       "<table border=\"1\" class=\"dataframe\">\n",
       "  <thead>\n",
       "    <tr style=\"text-align: right;\">\n",
       "      <th></th>\n",
       "      <th>Year</th>\n",
       "      <th>Location</th>\n",
       "      <th>energy_per_capita</th>\n",
       "      <th>LEx</th>\n",
       "      <th>LE15</th>\n",
       "      <th>LE65</th>\n",
       "      <th>LE80</th>\n",
       "    </tr>\n",
       "  </thead>\n",
       "  <tbody>\n",
       "    <tr>\n",
       "      <th>0</th>\n",
       "      <td>1965</td>\n",
       "      <td>Africa</td>\n",
       "      <td>2228.423</td>\n",
       "      <td>43.4401</td>\n",
       "      <td>45.7137</td>\n",
       "      <td>11.2665</td>\n",
       "      <td>4.9844</td>\n",
       "    </tr>\n",
       "    <tr>\n",
       "      <th>1</th>\n",
       "      <td>1966</td>\n",
       "      <td>Africa</td>\n",
       "      <td>2275.487</td>\n",
       "      <td>43.4330</td>\n",
       "      <td>45.6340</td>\n",
       "      <td>11.2447</td>\n",
       "      <td>4.9787</td>\n",
       "    </tr>\n",
       "    <tr>\n",
       "      <th>2</th>\n",
       "      <td>1967</td>\n",
       "      <td>Africa</td>\n",
       "      <td>2241.349</td>\n",
       "      <td>43.6456</td>\n",
       "      <td>45.5410</td>\n",
       "      <td>11.2492</td>\n",
       "      <td>4.9786</td>\n",
       "    </tr>\n",
       "    <tr>\n",
       "      <th>3</th>\n",
       "      <td>1968</td>\n",
       "      <td>Africa</td>\n",
       "      <td>2307.324</td>\n",
       "      <td>44.1023</td>\n",
       "      <td>45.8270</td>\n",
       "      <td>11.3158</td>\n",
       "      <td>4.9931</td>\n",
       "    </tr>\n",
       "    <tr>\n",
       "      <th>4</th>\n",
       "      <td>1969</td>\n",
       "      <td>Africa</td>\n",
       "      <td>2310.408</td>\n",
       "      <td>44.3156</td>\n",
       "      <td>45.8841</td>\n",
       "      <td>11.3276</td>\n",
       "      <td>4.9919</td>\n",
       "    </tr>\n",
       "  </tbody>\n",
       "</table>\n",
       "</div>"
      ],
      "text/plain": [
       "   Year Location  energy_per_capita      LEx     LE15     LE65    LE80\n",
       "0  1965   Africa           2228.423  43.4401  45.7137  11.2665  4.9844\n",
       "1  1966   Africa           2275.487  43.4330  45.6340  11.2447  4.9787\n",
       "2  1967   Africa           2241.349  43.6456  45.5410  11.2492  4.9786\n",
       "3  1968   Africa           2307.324  44.1023  45.8270  11.3158  4.9931\n",
       "4  1969   Africa           2310.408  44.3156  45.8841  11.3276  4.9919"
      ]
     },
     "execution_count": 14,
     "metadata": {},
     "output_type": "execute_result"
    }
   ],
   "source": [
    "# Reduce df to only columns needed for this analysis\n",
    "reduced_df = data_df[[\"Year\", \"Location\", \"energy_per_capita\", \"LEx\",\"LE15\", \"LE65\", \"LE80\"]]\n",
    "reduced_df.head()"
   ]
  },
  {
   "cell_type": "code",
   "execution_count": 33,
   "metadata": {},
   "outputs": [
    {
     "data": {
      "text/html": [
       "<div>\n",
       "<style scoped>\n",
       "    .dataframe tbody tr th:only-of-type {\n",
       "        vertical-align: middle;\n",
       "    }\n",
       "\n",
       "    .dataframe tbody tr th {\n",
       "        vertical-align: top;\n",
       "    }\n",
       "\n",
       "    .dataframe thead th {\n",
       "        text-align: right;\n",
       "    }\n",
       "</style>\n",
       "<table border=\"1\" class=\"dataframe\">\n",
       "  <thead>\n",
       "    <tr style=\"text-align: right;\">\n",
       "      <th></th>\n",
       "      <th>Year</th>\n",
       "      <th>Location</th>\n",
       "      <th>energy_per_capita</th>\n",
       "      <th>LEx</th>\n",
       "      <th>LE15</th>\n",
       "      <th>LE65</th>\n",
       "      <th>LE80</th>\n",
       "    </tr>\n",
       "  </thead>\n",
       "  <tbody>\n",
       "    <tr>\n",
       "      <th>56</th>\n",
       "      <td>2021</td>\n",
       "      <td>Africa</td>\n",
       "      <td>4027.117</td>\n",
       "      <td>61.6609</td>\n",
       "      <td>52.1976</td>\n",
       "      <td>12.5590</td>\n",
       "      <td>5.5959</td>\n",
       "    </tr>\n",
       "    <tr>\n",
       "      <th>230</th>\n",
       "      <td>2021</td>\n",
       "      <td>Asia</td>\n",
       "      <td>18812.572</td>\n",
       "      <td>72.5321</td>\n",
       "      <td>59.8141</td>\n",
       "      <td>15.9106</td>\n",
       "      <td>7.4329</td>\n",
       "    </tr>\n",
       "    <tr>\n",
       "      <th>1198</th>\n",
       "      <td>2021</td>\n",
       "      <td>Europe</td>\n",
       "      <td>40415.152</td>\n",
       "      <td>77.0336</td>\n",
       "      <td>62.4324</td>\n",
       "      <td>17.7173</td>\n",
       "      <td>8.3612</td>\n",
       "    </tr>\n",
       "    <tr>\n",
       "      <th>2411</th>\n",
       "      <td>2021</td>\n",
       "      <td>North America</td>\n",
       "      <td>54584.871</td>\n",
       "      <td>77.7299</td>\n",
       "      <td>63.2922</td>\n",
       "      <td>19.2612</td>\n",
       "      <td>9.5845</td>\n",
       "    </tr>\n",
       "    <tr>\n",
       "      <th>2541</th>\n",
       "      <td>2021</td>\n",
       "      <td>Oceania</td>\n",
       "      <td>41087.691</td>\n",
       "      <td>79.4444</td>\n",
       "      <td>66.2845</td>\n",
       "      <td>20.4808</td>\n",
       "      <td>9.7762</td>\n",
       "    </tr>\n",
       "    <tr>\n",
       "      <th>3085</th>\n",
       "      <td>2021</td>\n",
       "      <td>South America</td>\n",
       "      <td>16192.434</td>\n",
       "      <td>72.9158</td>\n",
       "      <td>59.1581</td>\n",
       "      <td>16.0654</td>\n",
       "      <td>7.1328</td>\n",
       "    </tr>\n",
       "  </tbody>\n",
       "</table>\n",
       "</div>"
      ],
      "text/plain": [
       "      Year       Location  energy_per_capita      LEx     LE15     LE65  \\\n",
       "56    2021         Africa           4027.117  61.6609  52.1976  12.5590   \n",
       "230   2021           Asia          18812.572  72.5321  59.8141  15.9106   \n",
       "1198  2021         Europe          40415.152  77.0336  62.4324  17.7173   \n",
       "2411  2021  North America          54584.871  77.7299  63.2922  19.2612   \n",
       "2541  2021        Oceania          41087.691  79.4444  66.2845  20.4808   \n",
       "3085  2021  South America          16192.434  72.9158  59.1581  16.0654   \n",
       "\n",
       "        LE80  \n",
       "56    5.5959  \n",
       "230   7.4329  \n",
       "1198  8.3612  \n",
       "2411  9.5845  \n",
       "2541  9.7762  \n",
       "3085  7.1328  "
      ]
     },
     "execution_count": 33,
     "metadata": {},
     "output_type": "execute_result"
    }
   ],
   "source": [
    "# Looking at 2021 by continent, country, income groupings\n",
    "#reduced_df.loc[reduced_df[\"Location\"].isin(['Africa', 'Antarctica', 'Asia','Europe','North America','Oceana','South America'])]\n",
    "\n",
    "new_df = reduced_df.loc[reduced_df[\"Location\"].isin(['Africa', 'Antarctica', 'Asia','Europe','North America','Oceania','South America'])]\n",
    "#new_df.head()\n",
    "one_year_df = new_df[(new_df['Year'] == 2021)]\n",
    "one_year_df.head(10)"
   ]
  },
  {
   "cell_type": "code",
   "execution_count": 62,
   "metadata": {},
   "outputs": [
    {
     "data": {
      "text/plain": [
       "<function matplotlib.pyplot.show(close=None, block=None)>"
      ]
     },
     "execution_count": 62,
     "metadata": {},
     "output_type": "execute_result"
    }
   ],
   "source": [
    "# Columns for 2021 by continent\n",
    "# setting up columns for 2021 df energy by continent\n",
    "continents = one_year_df[\"Location\"]\n",
    "\n",
    "energy_per_capita = one_year_df['energy_per_capita']\n",
    "\n",
    "\n"
   ]
  },
  {
   "cell_type": "code",
   "execution_count": 66,
   "metadata": {},
   "outputs": [
    {
     "name": "stderr",
     "output_type": "stream",
     "text": [
      "C:\\Users\\kyleb\\AppData\\Local\\Temp\\ipykernel_30800\\2851785778.py:1: FutureWarning: The behavior of `series[i:j]` with an integer-dtype index is deprecated. In a future version, this will be treated as *label-based* indexing, consistent with e.g. `series[i]` lookups. To retain the old behavior, use `series.iloc[i:j]`. To get the future behavior, use `series.loc[i:j]`.\n",
      "  plt.bar(continents[0:5], energy_per_capita[0:5])\n"
     ]
    },
    {
     "data": {
      "text/plain": [
       "<function matplotlib.pyplot.show(close=None, block=None)>"
      ]
     },
     "execution_count": 66,
     "metadata": {},
     "output_type": "execute_result"
    },
    {
     "data": {
      "image/png": "[encoded data removed]",
      "text/plain": [
       "<Figure size 640x480 with 1 Axes>"
      ]
     },
     "metadata": {},
     "output_type": "display_data"
    }
   ],
   "source": [
    "plt.bar(continents[0:5], energy_per_capita[0:5])\n",
    "plt.title(\"Per Capita Energy Consumption (2021)by Continent\")\n",
    "plt.ylabel(\"kWh Energy Consumption Per Capita\")\n",
    "plt.xlabel(\"Continent\")\n",
    "plt.show"
   ]
  },
  {
   "cell_type": "code",
   "execution_count": null,
   "metadata": {},
   "outputs": [],
   "source": []
  },
  {
   "cell_type": "code",
   "execution_count": 68,
   "metadata": {},
   "outputs": [
    {
     "name": "stderr",
     "output_type": "stream",
     "text": [
      "C:\\Users\\kyleb\\AppData\\Local\\Temp\\ipykernel_30800\\14037572.py:1: FutureWarning: The behavior of `series[i:j]` with an integer-dtype index is deprecated. In a future version, this will be treated as *label-based* indexing, consistent with e.g. `series[i]` lookups. To retain the old behavior, use `series.iloc[i:j]`. To get the future behavior, use `series.loc[i:j]`.\n",
      "  plt.bar(continents[0:5], LEx[0:5])\n"
     ]
    },
    {
     "data": {
      "text/plain": [
       "<function matplotlib.pyplot.show(close=None, block=None)>"
      ]
     },
     "execution_count": 68,
     "metadata": {},
     "output_type": "execute_result"
    },
    {
     "data": {
      "image/png": "[encoded data removed]",
      "text/plain": [
       "<Figure size 640x480 with 1 Axes>"
      ]
     },
     "metadata": {},
     "output_type": "display_data"
    }
   ],
   "source": [
    "\n",
    "plt.bar(continents[0:5], LEx[0:5])\n",
    "plt.title(\"Life Expectancy at Birth (2021)by Continent\")\n",
    "plt.ylabel(\"Life Expenctancy at Birth\")\n",
    "plt.xlabel(\"Continent\")\n",
    "plt.show"
   ]
  },
  {
   "cell_type": "code",
   "execution_count": 76,
   "metadata": {},
   "outputs": [
    {
     "data": {
      "text/html": [
       "<div>\n",
       "<style scoped>\n",
       "    .dataframe tbody tr th:only-of-type {\n",
       "        vertical-align: middle;\n",
       "    }\n",
       "\n",
       "    .dataframe tbody tr th {\n",
       "        vertical-align: top;\n",
       "    }\n",
       "\n",
       "    .dataframe thead th {\n",
       "        text-align: right;\n",
       "    }\n",
       "</style>\n",
       "<table border=\"1\" class=\"dataframe\">\n",
       "  <thead>\n",
       "    <tr style=\"text-align: right;\">\n",
       "      <th></th>\n",
       "      <th>Year</th>\n",
       "      <th>Location</th>\n",
       "      <th>energy_per_capita</th>\n",
       "      <th>LEx</th>\n",
       "      <th>LE15</th>\n",
       "      <th>LE65</th>\n",
       "      <th>LE80</th>\n",
       "    </tr>\n",
       "  </thead>\n",
       "  <tbody>\n",
       "    <tr>\n",
       "      <th>0</th>\n",
       "      <td>1965</td>\n",
       "      <td>Africa</td>\n",
       "      <td>2228.423</td>\n",
       "      <td>43.4401</td>\n",
       "      <td>45.7137</td>\n",
       "      <td>11.2665</td>\n",
       "      <td>4.9844</td>\n",
       "    </tr>\n",
       "    <tr>\n",
       "      <th>174</th>\n",
       "      <td>1965</td>\n",
       "      <td>Asia</td>\n",
       "      <td>2816.082</td>\n",
       "      <td>50.5795</td>\n",
       "      <td>48.2289</td>\n",
       "      <td>11.1161</td>\n",
       "      <td>4.8483</td>\n",
       "    </tr>\n",
       "    <tr>\n",
       "      <th>1142</th>\n",
       "      <td>1965</td>\n",
       "      <td>Europe</td>\n",
       "      <td>30301.293</td>\n",
       "      <td>69.7955</td>\n",
       "      <td>57.9409</td>\n",
       "      <td>14.3409</td>\n",
       "      <td>6.1746</td>\n",
       "    </tr>\n",
       "    <tr>\n",
       "      <th>2355</th>\n",
       "      <td>1965</td>\n",
       "      <td>North America</td>\n",
       "      <td>56296.660</td>\n",
       "      <td>70.3669</td>\n",
       "      <td>57.6278</td>\n",
       "      <td>14.7463</td>\n",
       "      <td>6.7945</td>\n",
       "    </tr>\n",
       "    <tr>\n",
       "      <th>2485</th>\n",
       "      <td>1965</td>\n",
       "      <td>Oceania</td>\n",
       "      <td>29017.244</td>\n",
       "      <td>65.8003</td>\n",
       "      <td>55.8474</td>\n",
       "      <td>13.9786</td>\n",
       "      <td>6.3733</td>\n",
       "    </tr>\n",
       "    <tr>\n",
       "      <th>3029</th>\n",
       "      <td>1965</td>\n",
       "      <td>South America</td>\n",
       "      <td>6260.950</td>\n",
       "      <td>56.9341</td>\n",
       "      <td>52.4490</td>\n",
       "      <td>12.9996</td>\n",
       "      <td>5.4895</td>\n",
       "    </tr>\n",
       "  </tbody>\n",
       "</table>\n",
       "</div>"
      ],
      "text/plain": [
       "      Year       Location  energy_per_capita      LEx     LE15     LE65  \\\n",
       "0     1965         Africa           2228.423  43.4401  45.7137  11.2665   \n",
       "174   1965           Asia           2816.082  50.5795  48.2289  11.1161   \n",
       "1142  1965         Europe          30301.293  69.7955  57.9409  14.3409   \n",
       "2355  1965  North America          56296.660  70.3669  57.6278  14.7463   \n",
       "2485  1965        Oceania          29017.244  65.8003  55.8474  13.9786   \n",
       "3029  1965  South America           6260.950  56.9341  52.4490  12.9996   \n",
       "\n",
       "        LE80  \n",
       "0     4.9844  \n",
       "174   4.8483  \n",
       "1142  6.1746  \n",
       "2355  6.7945  \n",
       "2485  6.3733  \n",
       "3029  5.4895  "
      ]
     },
     "execution_count": 76,
     "metadata": {},
     "output_type": "execute_result"
    }
   ],
   "source": [
    "# Looking at 1965 by continent, country, income groupings\n",
    "#reduced_df.loc[reduced_df[\"Location\"].isin(['Africa', 'Antarctica', 'Asia','Europe','North America','Oceana','South America'])]\n",
    "\n",
    "new_df = reduced_df.loc[reduced_df[\"Location\"].isin(['Africa', 'Antarctica', 'Asia','Europe','North America','Oceania','South America'])]\n",
    "#new_df.head()\n",
    "two_year_df = new_df[(new_df['Year'] == 1965)]\n",
    "two_year_df.head(10)"
   ]
  },
  {
   "cell_type": "code",
   "execution_count": 77,
   "metadata": {},
   "outputs": [],
   "source": [
    "# Columns for 2021 by continent\n",
    "# setting up columns for 2021 df energy by continent\n",
    "continents = two_year_df[\"Location\"]\n",
    "\n",
    "energy_per_capita = two_year_df['energy_per_capita']"
   ]
  },
  {
   "cell_type": "code",
   "execution_count": 78,
   "metadata": {},
   "outputs": [
    {
     "name": "stderr",
     "output_type": "stream",
     "text": [
      "C:\\Users\\kyleb\\AppData\\Local\\Temp\\ipykernel_30800\\4043577737.py:1: FutureWarning: The behavior of `series[i:j]` with an integer-dtype index is deprecated. In a future version, this will be treated as *label-based* indexing, consistent with e.g. `series[i]` lookups. To retain the old behavior, use `series.iloc[i:j]`. To get the future behavior, use `series.loc[i:j]`.\n",
      "  plt.bar(continents[0:5], energy_per_capita[0:5])\n"
     ]
    },
    {
     "data": {
      "text/plain": [
       "<function matplotlib.pyplot.show(close=None, block=None)>"
      ]
     },
     "execution_count": 78,
     "metadata": {},
     "output_type": "execute_result"
    },
    {
     "data": {
      "image/png": "[encoded data removed]",
      "text/plain": [
       "<Figure size 640x480 with 1 Axes>"
      ]
     },
     "metadata": {},
     "output_type": "display_data"
    }
   ],
   "source": [
    "plt.bar(continents[0:5], energy_per_capita[0:5])\n",
    "plt.title(\"Per Capita Energy Consumption (1965)by Continent\")\n",
    "plt.ylabel(\"kWh Energy Consumption Per Capita\")\n",
    "plt.xlabel(\"Continent\")\n",
    "plt.show"
   ]
  },
  {
   "cell_type": "code",
   "execution_count": 79,
   "metadata": {},
   "outputs": [
    {
     "name": "stderr",
     "output_type": "stream",
     "text": [
      "C:\\Users\\kyleb\\AppData\\Local\\Temp\\ipykernel_30800\\1307156253.py:1: FutureWarning: The behavior of `series[i:j]` with an integer-dtype index is deprecated. In a future version, this will be treated as *label-based* indexing, consistent with e.g. `series[i]` lookups. To retain the old behavior, use `series.iloc[i:j]`. To get the future behavior, use `series.loc[i:j]`.\n",
      "  plt.bar(continents[0:5], LEx[0:5])\n"
     ]
    },
    {
     "data": {
      "text/plain": [
       "<function matplotlib.pyplot.show(close=None, block=None)>"
      ]
     },
     "execution_count": 79,
     "metadata": {},
     "output_type": "execute_result"
    },
    {
     "data": {
      "image/png": "[encoded data removed]",
      "text/plain": [
       "<Figure size 640x480 with 1 Axes>"
      ]
     },
     "metadata": {},
     "output_type": "display_data"
    }
   ],
   "source": [
    "plt.bar(continents[0:5], LEx[0:5])\n",
    "plt.title(\"Life Expectancy at Birth (1965)by Continent\")\n",
    "plt.ylabel(\"Life Expenctancy at Birth\")\n",
    "plt.xlabel(\"Continent\")\n",
    "plt.show"
   ]
  }
 ],
 "metadata": {
  "kernelspec": {
   "display_name": "dev",
   "language": "python",
   "name": "python3"
  },
  "language_info": {
   "codemirror_mode": {
    "name": "ipython",
    "version": 3
   },
   "file_extension": ".py",
   "mimetype": "text/x-python",
   "name": "python",
   "nbconvert_exporter": "python",
   "pygments_lexer": "ipython3",
   "version": "3.10.12"
  },
  "orig_nbformat": 4
 },
 "nbformat": 4,
 "nbformat_minor": 2
}
