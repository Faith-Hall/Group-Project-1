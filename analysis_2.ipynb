{
 "cells": [
  {
   "cell_type": "markdown",
   "metadata": {},
   "source": [
    "Analysis 2:   \n",
    "Does higher energy consumption affect life expectancy (broken down by continents)?"
   ]
  },
  {
   "cell_type": "code",
   "execution_count": 1,
   "metadata": {},
   "outputs": [],
   "source": [
    "# Import Dependencies\n",
    "\n",
    "import matplotlib.pyplot as plt\n",
    "import numpy as np\n",
    "import pandas as pd\n",
    "from pathlib import Path"
   ]
  },
  {
   "cell_type": "code",
   "execution_count": 2,
   "metadata": {},
   "outputs": [
    {
     "data": {
      "text/html": [
       "<div>\n",
       "<style scoped>\n",
       "    .dataframe tbody tr th:only-of-type {\n",
       "        vertical-align: middle;\n",
       "    }\n",
       "\n",
       "    .dataframe tbody tr th {\n",
       "        vertical-align: top;\n",
       "    }\n",
       "\n",
       "    .dataframe thead th {\n",
       "        text-align: right;\n",
       "    }\n",
       "</style>\n",
       "<table border=\"1\" class=\"dataframe\">\n",
       "  <thead>\n",
       "    <tr style=\"text-align: right;\">\n",
       "      <th></th>\n",
       "      <th>Unnamed: 0</th>\n",
       "      <th>Location</th>\n",
       "      <th>Year</th>\n",
       "      <th>population</th>\n",
       "      <th>fossil_energy_per_capita</th>\n",
       "      <th>renewables_energy_per_capita</th>\n",
       "      <th>energy_per_capita</th>\n",
       "      <th>Record Counter</th>\n",
       "      <th>LEx</th>\n",
       "      <th>LE15</th>\n",
       "      <th>LE65</th>\n",
       "      <th>LE80</th>\n",
       "    </tr>\n",
       "  </thead>\n",
       "  <tbody>\n",
       "    <tr>\n",
       "      <th>0</th>\n",
       "      <td>87</td>\n",
       "      <td>Africa</td>\n",
       "      <td>1965</td>\n",
       "      <td>321447378.0</td>\n",
       "      <td>2100.505</td>\n",
       "      <td>127.918</td>\n",
       "      <td>2228.423</td>\n",
       "      <td>27</td>\n",
       "      <td>43.4401</td>\n",
       "      <td>45.7137</td>\n",
       "      <td>11.2665</td>\n",
       "      <td>4.9844</td>\n",
       "    </tr>\n",
       "    <tr>\n",
       "      <th>1</th>\n",
       "      <td>88</td>\n",
       "      <td>Africa</td>\n",
       "      <td>1966</td>\n",
       "      <td>329658389.0</td>\n",
       "      <td>2136.364</td>\n",
       "      <td>139.123</td>\n",
       "      <td>2275.487</td>\n",
       "      <td>27</td>\n",
       "      <td>43.4330</td>\n",
       "      <td>45.6340</td>\n",
       "      <td>11.2447</td>\n",
       "      <td>4.9787</td>\n",
       "    </tr>\n",
       "    <tr>\n",
       "      <th>2</th>\n",
       "      <td>89</td>\n",
       "      <td>Africa</td>\n",
       "      <td>1967</td>\n",
       "      <td>338159967.0</td>\n",
       "      <td>2099.772</td>\n",
       "      <td>141.577</td>\n",
       "      <td>2241.349</td>\n",
       "      <td>27</td>\n",
       "      <td>43.6456</td>\n",
       "      <td>45.5410</td>\n",
       "      <td>11.2492</td>\n",
       "      <td>4.9786</td>\n",
       "    </tr>\n",
       "    <tr>\n",
       "      <th>3</th>\n",
       "      <td>90</td>\n",
       "      <td>Africa</td>\n",
       "      <td>1968</td>\n",
       "      <td>346980412.0</td>\n",
       "      <td>2145.930</td>\n",
       "      <td>161.394</td>\n",
       "      <td>2307.324</td>\n",
       "      <td>27</td>\n",
       "      <td>44.1023</td>\n",
       "      <td>45.8270</td>\n",
       "      <td>11.3158</td>\n",
       "      <td>4.9931</td>\n",
       "    </tr>\n",
       "    <tr>\n",
       "      <th>4</th>\n",
       "      <td>91</td>\n",
       "      <td>Africa</td>\n",
       "      <td>1969</td>\n",
       "      <td>356070643.0</td>\n",
       "      <td>2126.871</td>\n",
       "      <td>183.537</td>\n",
       "      <td>2310.408</td>\n",
       "      <td>27</td>\n",
       "      <td>44.3156</td>\n",
       "      <td>45.8841</td>\n",
       "      <td>11.3276</td>\n",
       "      <td>4.9919</td>\n",
       "    </tr>\n",
       "  </tbody>\n",
       "</table>\n",
       "</div>"
      ],
      "text/plain": [
       "   Unnamed: 0 Location  Year   population  fossil_energy_per_capita  \\\n",
       "0          87   Africa  1965  321447378.0                  2100.505   \n",
       "1          88   Africa  1966  329658389.0                  2136.364   \n",
       "2          89   Africa  1967  338159967.0                  2099.772   \n",
       "3          90   Africa  1968  346980412.0                  2145.930   \n",
       "4          91   Africa  1969  356070643.0                  2126.871   \n",
       "\n",
       "   renewables_energy_per_capita  energy_per_capita  Record Counter      LEx  \\\n",
       "0                       127.918           2228.423              27  43.4401   \n",
       "1                       139.123           2275.487              27  43.4330   \n",
       "2                       141.577           2241.349              27  43.6456   \n",
       "3                       161.394           2307.324              27  44.1023   \n",
       "4                       183.537           2310.408              27  44.3156   \n",
       "\n",
       "      LE15     LE65    LE80  \n",
       "0  45.7137  11.2665  4.9844  \n",
       "1  45.6340  11.2447  4.9787  \n",
       "2  45.5410  11.2492  4.9786  \n",
       "3  45.8270  11.3158  4.9931  \n",
       "4  45.8841  11.3276  4.9919  "
      ]
     },
     "execution_count": 2,
     "metadata": {},
     "output_type": "execute_result"
    }
   ],
   "source": [
    "# Make a reference to the csv file path\n",
    "csv_path = Path(\"energyLEclean_NA.csv\")\n",
    "\n",
    "# Import the csv file as a DataFrame\n",
    "data_df = pd.read_csv(csv_path)\n",
    "\n",
    "# Check the df\n",
    "data_df.head()"
   ]
  },
  {
   "cell_type": "code",
   "execution_count": null,
   "metadata": {},
   "outputs": [],
   "source": [
    "# Reduce df to only columns needed for this analysis\n",
    "reduced_df = data_df[[\"#YOUR CODE\", \"#YOUR CODE\"]]\n",
    "reduced_df.head()"
   ]
  },
  {
   "cell_type": "code",
   "execution_count": null,
   "metadata": {},
   "outputs": [],
   "source": [
    "# Optional:  Rename the headers to be more explanatory\n",
    "renamed_df = reduced_df.rename(columns={\"#old name\": \"#new name\",\n",
    "                                        \"#old name\": \"#new name\"})\n",
    "renamed_df.head()"
   ]
  },
  {
   "cell_type": "code",
   "execution_count": null,
   "metadata": {},
   "outputs": [],
   "source": [
    "# graphs/plots"
   ]
  }
 ],
 "metadata": {
  "kernelspec": {
   "display_name": "dev",
   "language": "python",
   "name": "python3"
  },
  "language_info": {
   "codemirror_mode": {
    "name": "ipython",
    "version": 3
   },
   "file_extension": ".py",
   "mimetype": "text/x-python",
   "name": "python",
   "nbconvert_exporter": "python",
   "pygments_lexer": "ipython3",
   "version": "3.10.12"
  },
  "orig_nbformat": 4
 },
 "nbformat": 4,
 "nbformat_minor": 2
}
