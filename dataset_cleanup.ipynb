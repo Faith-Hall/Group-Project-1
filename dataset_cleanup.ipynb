{
 "cells": [
  {
   "cell_type": "code",
   "execution_count": null,
   "metadata": {},
   "outputs": [],
   "source": [
    "# Import dependencies \n",
    "import pandas as pd\n",
    "from pathlib import Path"
   ]
  },
  {
   "cell_type": "code",
   "execution_count": null,
   "metadata": {},
   "outputs": [],
   "source": [
    "# Import raw datasets as dataframes\n",
    "\n",
    "# Energy dataset:\n",
    "# reference file path\n",
    "Energy_path = Path(\"Resources/owid-energy-data.csv\")\n",
    "# import as df\n",
    "energy_df = pd.read_csv(Energy_path)\n",
    "\n",
    "# Life Expectacy dataset:\n",
    "LE_path = Path(\"Resources/WPP2022_Demographic_Indicators_Medium.csv\")\n",
    "LE_df = pd.read_csv(LE_path)"
   ]
  },
  {
   "cell_type": "code",
   "execution_count": null,
   "metadata": {},
   "outputs": [],
   "source": [
    "LE_columns = [col for col in LE_df.columns if col.startswith(\"LE\") and \"Male\" not in col and \"Female\" not in col]\n",
    "LE_columns"
   ]
  },
  {
   "cell_type": "code",
   "execution_count": null,
   "metadata": {},
   "outputs": [],
   "source": [
    "Meta_columns = ['SortOrder', 'Location', 'Time']\n",
    "Meta_columns"
   ]
  },
  {
   "cell_type": "code",
   "execution_count": null,
   "metadata": {},
   "outputs": [],
   "source": [
    "# Concatenate meta columns and life expectancy columns\n",
    "LE_df = LE_df[Meta_columns + LE_columns]\n",
    "LE_df.head()"
   ]
  },
  {
   "cell_type": "code",
   "execution_count": null,
   "metadata": {},
   "outputs": [],
   "source": [
    "# Renaming columns\n",
    "LE_df.rename(columns={\"SortOrder\": \"Record Counter\",\"Time\": \"Year\"},inplace=True)\n",
    "LE_df.head()"
   ]
  },
  {
   "cell_type": "code",
   "execution_count": null,
   "metadata": {},
   "outputs": [],
   "source": [
    "# Filter Demo years to 2022 and earlier\n",
    "LE_df[(LE_df['Year'] <= 2022)]\n",
    "LE_df.head()"
   ]
  },
  {
   "cell_type": "code",
   "execution_count": null,
   "metadata": {},
   "outputs": [],
   "source": [
    "# Filter energy df years\n",
    "energy_df[(energy_df['year'] >= 1950)]\n",
    "energy_df.head()"
   ]
  },
  {
   "cell_type": "code",
   "execution_count": null,
   "metadata": {},
   "outputs": [],
   "source": [
    "# Picking the columns we want to keep from energy data set\n",
    "energy_meta_columns = ['country', 'year', 'population', 'fossil_energy_per_capita', 'renewables_energy_per_capita', 'energy_per_capita']\n",
    "\n",
    "energy_df_clean = energy_df[energy_meta_columns]\n",
    "energy_df_clean.head()"
   ]
  },
  {
   "cell_type": "code",
   "execution_count": null,
   "metadata": {},
   "outputs": [],
   "source": [
    "# Rename columns for merge\n",
    "energy_df_clean.rename(columns={\"country\": \"Location\",\"year\": \"Year\"},inplace=True)\n",
    "energy_df_clean.head()"
   ]
  },
  {
   "cell_type": "code",
   "execution_count": null,
   "metadata": {},
   "outputs": [],
   "source": [
    "# replace \"Northern America\" to \"North America\"\n",
    "LE_df= LE_df.replace(\"Northern America\", \"North America\")"
   ]
  },
  {
   "cell_type": "code",
   "execution_count": null,
   "metadata": {},
   "outputs": [],
   "source": [
    "# Merging energy and life expectancy data sets\n",
    "merge_df = pd.merge(energy_df_clean, LE_df)\n",
    "merge_df.head()"
   ]
  },
  {
   "cell_type": "code",
   "execution_count": null,
   "metadata": {},
   "outputs": [],
   "source": [
    "# drop NaN \n",
    "merge_df_clean = merge_df.dropna()"
   ]
  },
  {
   "cell_type": "code",
   "execution_count": null,
   "metadata": {},
   "outputs": [],
   "source": [
    "# create csv for clean data set\n",
    "merge_df_clean.to_csv('energyLEclean_NA.csv')"
   ]
  }
 ],
 "metadata": {
  "kernelspec": {
   "display_name": "dev",
   "language": "python",
   "name": "python3"
  },
  "language_info": {
   "codemirror_mode": {
    "name": "ipython",
    "version": 3
   },
   "file_extension": ".py",
   "mimetype": "text/x-python",
   "name": "python",
   "nbconvert_exporter": "python",
   "pygments_lexer": "ipython3",
   "version": "3.10.12"
  },
  "orig_nbformat": 4
 },
 "nbformat": 4,
 "nbformat_minor": 2
}
