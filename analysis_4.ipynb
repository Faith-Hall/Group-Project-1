{
 "cells": [
  {
   "cell_type": "markdown",
   "metadata": {},
   "source": [
    "Analysis 4:  \n",
    "Is the life expectancy affected by type of energy consumption (renewable vs fossil fuels) in each continent?"
   ]
  },
  {
   "cell_type": "code",
   "execution_count": null,
   "metadata": {},
   "outputs": [],
   "source": [
    "# Import Dependencies\n",
    "import pandas as pd\n",
    "from pathlib import Path"
   ]
  },
  {
   "cell_type": "code",
   "execution_count": null,
   "metadata": {},
   "outputs": [],
   "source": [
    "# Make a reference to the csv file path\n",
    "csv_path = Path(\"energyLEclean.csv\")\n",
    "\n",
    "# Import the csv file as a DataFrame\n",
    "data_df = pd.read_csv(csv_path)\n",
    "\n",
    "# check the df\n",
    "data_df.head()"
   ]
  },
  {
   "cell_type": "code",
   "execution_count": null,
   "metadata": {},
   "outputs": [],
   "source": [
    "# Reduce df to only columns needed for this analysis\n",
    "reduced_df = data_df[[\"#YOUR CODE\", \"#YOUR CODE\"]]\n",
    "reduced_df.head()"
   ]
  },
  {
   "cell_type": "code",
   "execution_count": null,
   "metadata": {},
   "outputs": [],
   "source": [
    "# Optional:  Rename the headers to be more explanatory\n",
    "renamed_df = reduced_df.rename(columns={\"#old name\": \"#new name\",\n",
    "                                        \"#old name\": \"#new name\"})\n",
    "renamed_df.head()"
   ]
  },
  {
   "cell_type": "code",
   "execution_count": null,
   "metadata": {},
   "outputs": [],
   "source": [
    "# graphs/plots"
   ]
  }
 ],
 "metadata": {
  "kernelspec": {
   "display_name": "dev",
   "language": "python",
   "name": "python3"
  },
  "language_info": {
   "name": "python",
   "version": "3.10.12"
  },
  "orig_nbformat": 4
 },
 "nbformat": 4,
 "nbformat_minor": 2
}
