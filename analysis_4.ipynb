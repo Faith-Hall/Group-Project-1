{
 "cells": [
  {
   "cell_type": "markdown",
   "metadata": {},
   "source": [
    "Analysis 4:  \n",
    "Is the life expectancy affected by type of energy consumption (renewable vs fossil fuels) in each continent?"
   ]
  },
  {
   "cell_type": "code",
   "execution_count": null,
   "metadata": {},
   "outputs": [],
   "source": [
    "%matplotlib widget\n",
    "# above line is for vscode use in windows. if on mac, replace widget with notebook.\n",
    "# Import Dependencies\n",
    "import matplotlib.pyplot as plt\n",
    "import numpy as np\n",
    "import pandas as pd\n",
    "from pathlib import Path"
   ]
  },
  {
   "cell_type": "code",
   "execution_count": null,
   "metadata": {},
   "outputs": [],
   "source": [
    "# No need to run this cell again if already have the file \"energyLEclean_NA_continents.csv\"\n",
    "# # making a new csv file from old csv file for analysis 4.\n",
    "\n",
    "# Make a reference to the csv file path\n",
    "csv_path = Path(\"energyLEclean_NA.csv\")\n",
    "\n",
    "# Import the csv file as a DataFrame\n",
    "data_df = pd.read_csv(csv_path)\n",
    "\n",
    "# check the df\n",
    "data_df.head()\n",
    "\n",
    "# Reduce df to only columns needed for this analysis\n",
    "reduced_df = data_df[[\"Year\", \"Location\", \"energy_per_capita\", \"fossil_energy_per_capita\", \"renewables_energy_per_capita\", \"LEx\", \"LE15\", \"LE65\", \"LE80\"]]\n",
    "reduced_df[\"Location\"].value_counts()\n",
    "\n",
    "# Description of the energy columns:\n",
    "# - fossil_energy_per_capita: Per capita fossil fuel consumption, measured in kilowatt-hours. This is the sum of primary energy from coal, oil and gas.\n",
    "# - renewables_energy_per_capita: Per capita primary energy consumption from renewables, measured in kilowatt-hours\n",
    "# - energy_per_capita: Primary energy consumption per capita, measured in kilowatt-hours\n",
    "\n",
    "# Only keep the continents and export to a csv\n",
    "conts_df = reduced_df.loc[(reduced_df['Location'] == \"Africa\") |\n",
    "                     (reduced_df['Location'] == \"North America\") |\n",
    "                     (reduced_df['Location'] == \"South America\") |\n",
    "                     (reduced_df['Location'] == \"Europe\") |\n",
    "                     (reduced_df['Location'] == \"Oceania\") |\n",
    "                     (reduced_df['Location'] == \"Asia\"), :]\n",
    "conts_df.to_csv(\"energyLEclean_NA_continents.csv\", index=False)"
   ]
  },
  {
   "cell_type": "code",
   "execution_count": null,
   "metadata": {},
   "outputs": [],
   "source": [
    "# load the continents csv file as the new data_df\n",
    "# Make a reference to the csv file path\n",
    "csv_path_2 = Path(\"energyLEclean_NA_continents.csv\")\n",
    "\n",
    "# Import the csv file as a DataFrame\n",
    "data_df = pd.read_csv(csv_path_2)\n",
    "\n",
    "# check the df\n",
    "data_df.head()"
   ]
  },
  {
   "cell_type": "code",
   "execution_count": null,
   "metadata": {},
   "outputs": [],
   "source": [
    "\n",
    "# Start analysis\n",
    "\n",
    "# setting x-axis variable\n",
    "years = np.arange(1965, 2023, 1)\n",
    "\n",
    "#create a function to output graphs based on region input\n",
    "def graph_it(region):\n",
    "    fossil_fuel = data_df.loc[(data_df['Location'] == region), 'fossil_energy_per_capita']\n",
    "    renewable = data_df.loc[(data_df['Location'] == region), 'renewables_energy_per_capita']\n",
    "    LE_birth = data_df.loc[(data_df['Location'] == region), 'LEx']\n",
    "\n",
    "    #setting variables for formatting for easy editing\n",
    "    s=3\n",
    "    w=1\n",
    "\n",
    "    #plotting the left axis in a subplot (energy consumption kWh)\n",
    "    fig, ax1 = plt.subplots()\n",
    "    color = 'tab:red'\n",
    "    ax1.set_xlabel('Years')\n",
    "    ax1.set_ylabel('Energy Consumption (kWh)', color=color)\n",
    "    ax1.plot(years, fossil_fuel, color=color, marker='x', markersize=s, linewidth=w, label='Fossil Fuel')\n",
    "    ax1.plot(years, renewable, color=color, marker='d', markersize=s, linewidth=w, label='Renewable Energy')\n",
    "    ax1.tick_params(axis='y', labelcolor=color)\n",
    "    ax1.set_ylim(-2000, 75000)\n",
    "\n",
    "    #plotting the right axis in another subplot (life expectancy years)\n",
    "    ax2 = ax1.twinx()  # instantiate a second axes that shares the same x-axis\n",
    "    color = 'tab:blue'\n",
    "    ax2.set_ylabel('Life Expectancy at Birth (years)', color=color)\n",
    "    ax2.plot(years, LE_birth, color=color, marker='s', markersize=s, linewidth=w, label='Life Expectancy at Birth')\n",
    "    ax2.tick_params(axis='y', labelcolor=color)\n",
    "    ax2.set_ylim(-2, 85)\n",
    "\n",
    "    #putting together and saving each graph into another folder\n",
    "    fig.tight_layout()\n",
    "    plt.subplots_adjust(top=0.85, bottom=0.22)\n",
    "    plt.title(f\"Life Expectancy at Birth vs Energy Consumption Type:\\n{region}\")\n",
    "    fig.legend(loc=4)\n",
    "    #optional: plt.show()\n",
    "    plt.savefig(f\"analysis_4_figs/analysis_4_fig_{region}\")\n",
    "    #clear the plot for the next loop iteration\n",
    "    plt.clf()\n",
    "    return\n",
    "#end of function\n",
    "\n",
    "# create list of regions for the loop\n",
    "regions = [\"Africa\", \"Asia\", \"Europe\", \"North America\", \"Oceania\", \"South America\"]\n",
    "#loop regions through the function created above.\n",
    "for i in regions:\n",
    "    graph_it(i)\n"
   ]
  },
  {
   "cell_type": "code",
   "execution_count": null,
   "metadata": {},
   "outputs": [],
   "source": []
  }
 ],
 "metadata": {
  "kernelspec": {
   "display_name": "dev",
   "language": "python",
   "name": "python3"
  },
  "language_info": {
   "codemirror_mode": {
    "name": "ipython",
    "version": 3
   },
   "file_extension": ".py",
   "mimetype": "text/x-python",
   "name": "python",
   "nbconvert_exporter": "python",
   "pygments_lexer": "ipython3",
   "version": "3.10.12"
  },
  "orig_nbformat": 4
 },
 "nbformat": 4,
 "nbformat_minor": 2
}
