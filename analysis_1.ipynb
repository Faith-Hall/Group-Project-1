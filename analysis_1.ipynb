{
 "cells": [
  {
   "cell_type": "markdown",
   "metadata": {},
   "source": [
    "Analysis 1:  \n",
    "What is the correlation of global life expectancy to overall per capita energy consumption?"
   ]
  },
  {
   "cell_type": "code",
   "execution_count": null,
   "metadata": {},
   "outputs": [],
   "source": [
    "# Import Dependencies\n",
    "import matplotlib.pyplot as plt\n",
    "import numpy as np\n",
    "import pandas as pd\n",
    "from pathlib import Path"
   ]
  },
  {
   "cell_type": "code",
   "execution_count": null,
   "metadata": {},
   "outputs": [],
   "source": [
    "# Make a reference to the csv file path\n",
    "csv_path = Path(\"energyLEclean_NA.csv\")\n",
    "\n",
    "# Import the csv file as a DataFrame\n",
    "data_df = pd.read_csv(csv_path)\n",
    "\n",
    "# Check the df\n",
    "data_df.head()"
   ]
  },
  {
   "cell_type": "code",
   "execution_count": null,
   "metadata": {},
   "outputs": [],
   "source": [
    "# Reduce df to only columns needed for this analysis\n",
    "reduced_df = data_df[[\"Year\", \"energy_per_capita\", \"LEx\", \"LE15\", \"LE65\", \"LE80\"]]\n",
    "reduced_df.head()"
   ]
  },
  {
   "cell_type": "code",
   "execution_count": null,
   "metadata": {},
   "outputs": [],
   "source": [
    "# Looking at 2021\n",
    "new_df = reduced_df[(reduced_df['Year'] == 2021)]\n",
    "new_df.head()"
   ]
  },
  {
   "cell_type": "code",
   "execution_count": null,
   "metadata": {},
   "outputs": [],
   "source": [
    "# setting up columns for 2021 df\n",
    "LEx = new_df[\"LEx\"]\n",
    "LE15 = new_df[\"LE15\"]\n",
    "LE65 = new_df[\"LE65\"]\n",
    "LE80 = new_df[\"LE80\"]\n",
    "energy_per_capita = new_df[\"energy_per_capita\"]\n",
    "x_axis = energy_per_capita"
   ]
  },
  {
   "cell_type": "code",
   "execution_count": null,
   "metadata": {},
   "outputs": [],
   "source": [
    "# graphs/plots\n",
    "plt.scatter(x_axis, LEx, marker=\"x\", s=5, label = \"Life expectancy at birth\")\n",
    "plt.scatter(x_axis, LE15, marker=\"x\", s=5, label = \"Life expectancy at age 15\")\n",
    "plt.scatter(x_axis, LE65, marker=\"x\", s=5, label = \"Life expectancy at age 65\")\n",
    "plt.scatter(x_axis, LE80, marker=\"x\", s=5, label = \"Life expectancy at age 80\")\n",
    "\n",
    "# titles and labels\n",
    "plt.title(\"Life Expectancy vs. Per Capita Energy Consumption (2021)\")\n",
    "plt.xlabel(\"kWh Energy Consumption Per Capita (Global)\")\n",
    "plt.ylabel(\"Life Expectancy\")\n",
    "\n",
    "# legend location\n",
    "plt.legend(loc='best')\n",
    "\n",
    "# setting limits\n",
    "plt.xlim(0, 160000)\n",
    "plt.ylim(0, 90)\n",
    "\n",
    "# save figure\n",
    "plt.savefig(f\"analysis_1_figs/analysis_1_fig_2021\")"
   ]
  },
  {
   "cell_type": "code",
   "execution_count": null,
   "metadata": {},
   "outputs": [],
   "source": [
    "# Life expectancy vs per capita energy consumption over all time in the dataset\n",
    "LEx = reduced_df[\"LEx\"]\n",
    "LE15 = reduced_df[\"LE15\"]\n",
    "LE65 = reduced_df[\"LE65\"]\n",
    "LE80 = reduced_df[\"LE80\"]\n",
    "energy_per_capita = reduced_df[\"energy_per_capita\"]\n",
    "x_axis = energy_per_capita"
   ]
  },
  {
   "cell_type": "code",
   "execution_count": null,
   "metadata": {},
   "outputs": [],
   "source": [
    "# graph for life expectancy 1950-2022\n",
    "# graphs/plots\n",
    "plt.scatter(x_axis, LEx, marker=\"x\", s=1, label = \"Life expectancy at birth\")\n",
    "plt.scatter(x_axis, LE15, marker=\"x\", s=1, label = \"Life expectancy at age 15\")\n",
    "plt.scatter(x_axis, LE65, marker=\"x\", s=1, label = \"Life expectancy at age 65\")\n",
    "plt.scatter(x_axis, LE80, marker=\"x\", s=1, label = \"Life expectancy at age 80\")\n",
    "\n",
    "plt.title(\"Life Expectancy vs. Per Capita Energy Consumption (1965-2022)\")\n",
    "plt.xlabel(\"kWh Energy Consumption Per Capita (Global)\")\n",
    "plt.ylabel(\"Life Expectancy\")\n",
    "\n",
    "# legend location\n",
    "plt.legend(loc='best')\n",
    "\n",
    "# setting limits\n",
    "plt.xlim(0, 160000)\n",
    "plt.ylim(0, 90)\n",
    "\n",
    "# save figure\n",
    "plt.savefig(f\"analysis_1_figs/analysis_1_fig_1965-2022\")"
   ]
  },
  {
   "cell_type": "code",
   "execution_count": null,
   "metadata": {},
   "outputs": [],
   "source": [
    "# Generation X (1965-1979)\n",
    "genX = reduced_df.loc[(reduced_df['Year'] >= 1965) & (reduced_df['Year'] <=1979)]\n",
    "genX.head()"
   ]
  },
  {
   "cell_type": "code",
   "execution_count": null,
   "metadata": {},
   "outputs": [],
   "source": [
    "LEx = genX[\"LEx\"]\n",
    "LE15 = genX[\"LE15\"]\n",
    "LE65 = genX[\"LE65\"]\n",
    "LE80 = genX[\"LE80\"]\n",
    "energy_per_capita = genX[\"energy_per_capita\"]\n",
    "x_axis = energy_per_capita"
   ]
  },
  {
   "cell_type": "code",
   "execution_count": null,
   "metadata": {},
   "outputs": [],
   "source": [
    "# Graph for Generation X\n",
    "plt.scatter(x_axis, LEx, marker=\"x\", s=2, label = \"Life expectancy at birth\")\n",
    "plt.scatter(x_axis, LE15, marker=\"x\", s=2, label = \"Life expectancy at age 15\")\n",
    "plt.scatter(x_axis, LE65, marker=\"x\", s=2, label = \"Life expectancy at age 65\")\n",
    "plt.scatter(x_axis, LE80, marker=\"x\", s=2, label = \"Life expectancy at age 80\")\n",
    "\n",
    "plt.title(\"Life Expectancy vs. Per Capita Energy Consumption (1965-1979)\")\n",
    "plt.xlabel(\"kWh Energy Consumption Per Capita (Global)\")\n",
    "plt.ylabel(\"Life Expectancy\")\n",
    "\n",
    "# legend location\n",
    "plt.legend(loc='best')\n",
    "\n",
    "# setting limits\n",
    "plt.xlim(0, 160000)\n",
    "plt.ylim(0, 90)\n",
    "\n",
    "# save figure\n",
    "plt.savefig(f\"analysis_1_figs/analysis_1_fig_GenX\")"
   ]
  },
  {
   "cell_type": "code",
   "execution_count": null,
   "metadata": {},
   "outputs": [],
   "source": [
    "# Millennials (1980-1994) \n",
    "millennials = reduced_df.loc[(reduced_df['Year'] >= 1980) & (reduced_df['Year'] <=1994)]\n",
    "millennials.head()"
   ]
  },
  {
   "cell_type": "code",
   "execution_count": null,
   "metadata": {},
   "outputs": [],
   "source": [
    "LEx = millennials[\"LEx\"]\n",
    "LE15 = millennials[\"LE15\"]\n",
    "LE65 = millennials[\"LE65\"]\n",
    "LE80 = millennials[\"LE80\"]\n",
    "energy_per_capita = millennials[\"energy_per_capita\"]\n",
    "x_axis = energy_per_capita"
   ]
  },
  {
   "cell_type": "code",
   "execution_count": null,
   "metadata": {},
   "outputs": [],
   "source": [
    "# Graph for Millennials\n",
    "plt.scatter(x_axis, LEx, marker=\"x\", s=2, label = \"Life expectancy at birth\")\n",
    "plt.scatter(x_axis, LE15, marker=\"x\", s=2, label = \"Life expectancy at age 15\")\n",
    "plt.scatter(x_axis, LE65, marker=\"x\", s=2, label = \"Life expectancy at age 65\")\n",
    "plt.scatter(x_axis, LE80, marker=\"x\", s=2, label = \"Life expectancy at age 80\")\n",
    "\n",
    "plt.title(\"Life Expectancy vs. Per Capita Energy Consumption (1980-1994)\")\n",
    "plt.xlabel(\"kWh Energy Consumption Per Capita (Global)\")\n",
    "plt.ylabel(\"Life Expectancy\")\n",
    "\n",
    "# legend location\n",
    "plt.legend(loc='best')\n",
    "\n",
    "# setting limits\n",
    "plt.xlim(0, 160000)\n",
    "plt.ylim(0, 90)\n",
    "\n",
    "# save figure\n",
    "plt.savefig(f\"analysis_1_figs/analysis_1_fig_Millennials\")"
   ]
  },
  {
   "cell_type": "code",
   "execution_count": null,
   "metadata": {},
   "outputs": [],
   "source": [
    "# Generation Z (1995-2012) \n",
    "genZ = reduced_df.loc[(reduced_df['Year'] >= 1995) & (reduced_df['Year'] <=2012)]\n",
    "genZ.head()"
   ]
  },
  {
   "cell_type": "code",
   "execution_count": null,
   "metadata": {},
   "outputs": [],
   "source": [
    "LEx = genZ[\"LEx\"]\n",
    "LE15 = genZ[\"LE15\"]\n",
    "LE65 = genZ[\"LE65\"]\n",
    "LE80 = genZ[\"LE80\"]\n",
    "energy_per_capita = genZ[\"energy_per_capita\"]\n",
    "x_axis = energy_per_capita"
   ]
  },
  {
   "cell_type": "code",
   "execution_count": null,
   "metadata": {},
   "outputs": [],
   "source": [
    "# Graph for Generation Z\n",
    "plt.scatter(x_axis, LEx, marker=\"x\", s=2, label = \"Life expectancy at birth\")\n",
    "plt.scatter(x_axis, LE15, marker=\"x\", s=2, label = \"Life expectancy at age 15\")\n",
    "plt.scatter(x_axis, LE65, marker=\"x\", s=2, label = \"Life expectancy at age 65\")\n",
    "plt.scatter(x_axis, LE80, marker=\"x\", s=2, label = \"Life expectancy at age 80\")\n",
    "\n",
    "plt.title(\"Life Expectancy vs. Per Capita Energy Consumption (1995-2012)\")\n",
    "plt.xlabel(\"kWh Energy Consumption Per Capita (Global)\")\n",
    "plt.ylabel(\"Life Expectancy\")\n",
    "\n",
    "# legend location\n",
    "plt.legend(loc='best')\n",
    "\n",
    "# setting limits\n",
    "plt.xlim(0, 160000)\n",
    "plt.ylim(0, 90)\n",
    "\n",
    "# save figure\n",
    "plt.savefig(f\"analysis_1_figs/analysis_1_fig_GenZ\")"
   ]
  },
  {
   "cell_type": "code",
   "execution_count": null,
   "metadata": {},
   "outputs": [],
   "source": [
    "# Generation Alpha (2013-2025)\n",
    "alpha = reduced_df.loc[(reduced_df['Year'] >= 2013) & (reduced_df['Year'] <=2025)]\n",
    "alpha.head()"
   ]
  },
  {
   "cell_type": "code",
   "execution_count": null,
   "metadata": {},
   "outputs": [],
   "source": [
    "LEx = alpha[\"LEx\"]\n",
    "LE15 = alpha[\"LE15\"]\n",
    "LE65 = alpha[\"LE65\"]\n",
    "LE80 = alpha[\"LE80\"]\n",
    "energy_per_capita = alpha[\"energy_per_capita\"]\n",
    "x_axis = energy_per_capita"
   ]
  },
  {
   "cell_type": "code",
   "execution_count": null,
   "metadata": {},
   "outputs": [],
   "source": [
    "# Graph for Generation Alpha\n",
    "plt.scatter(x_axis, LEx, marker=\"x\", s=2, label = \"Life expectancy at birth\")\n",
    "plt.scatter(x_axis, LE15, marker=\"x\", s=2, label = \"Life expectancy at age 15\")\n",
    "plt.scatter(x_axis, LE65, marker=\"x\", s=2, label = \"Life expectancy at age 65\")\n",
    "plt.scatter(x_axis, LE80, marker=\"x\", s=2, label = \"Life expectancy at age 80\")\n",
    "\n",
    "plt.title(\"Life Expectancy vs. Per Capita Energy Consumption (2013-2025)\")\n",
    "plt.xlabel(\"kWh Energy Consumption Per Capita (Global)\")\n",
    "plt.ylabel(\"Life Expectancy\")\n",
    "\n",
    "# legend location\n",
    "plt.legend(loc='best')\n",
    "\n",
    "# setting limits\n",
    "plt.xlim(0, 160000)\n",
    "plt.ylim(0, 90)\n",
    "\n",
    "# save figure\n",
    "plt.savefig(f\"analysis_1_figs/analysis_1_fig_GenAlpha\")"
   ]
  }
 ],
 "metadata": {
  "kernelspec": {
   "display_name": "dev",
   "language": "python",
   "name": "python3"
  },
  "language_info": {
   "codemirror_mode": {
    "name": "ipython",
    "version": 3
   },
   "file_extension": ".py",
   "mimetype": "text/x-python",
   "name": "python",
   "nbconvert_exporter": "python",
   "pygments_lexer": "ipython3",
   "version": "3.10.12"
  },
  "orig_nbformat": 4
 },
 "nbformat": 4,
 "nbformat_minor": 2
}
