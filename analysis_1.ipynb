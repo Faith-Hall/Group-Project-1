{
 "cells": [
  {
   "cell_type": "markdown",
   "metadata": {},
   "source": [
    "Analysis 1:  \n",
    "Does higher energy consumption affect life expectancy (world)?"
   ]
  },
  {
   "cell_type": "code",
   "execution_count": null,
   "metadata": {},
   "outputs": [],
   "source": [
    "# Import Dependencies\n",
    "import matplotlib.pyplot as plt\n",
    "import numpy as np\n",
    "import pandas as pd\n",
    "from pathlib import Path"
   ]
  },
  {
   "cell_type": "code",
   "execution_count": null,
   "metadata": {},
   "outputs": [],
   "source": [
    "# Make a reference to the csv file path\n",
    "csv_path = Path(\"energyLEclean_NA.csv\")\n",
    "\n",
    "# Import the csv file as a DataFrame\n",
    "data_df = pd.read_csv(csv_path)\n",
    "\n",
    "# check the df\n",
    "data_df.head()"
   ]
  },
  {
   "cell_type": "code",
   "execution_count": null,
   "metadata": {},
   "outputs": [],
   "source": [
    "# Reduce df to only columns needed for this analysis\n",
    "reduced_df = data_df[[\"Year\", \"energy_per_capita\", \"LEx\", \"LE15\", \"LE65\", \"LE80\"]]\n",
    "reduced_df.head()"
   ]
  },
  {
   "cell_type": "code",
   "execution_count": null,
   "metadata": {},
   "outputs": [],
   "source": [
    "# Optional:  Rename the headers to be more explanatory\n",
    "renamed_df = reduced_df.rename(columns={\"#old name\": \"#new name\",\n",
    "                                        \"#old name\": \"#new name\"})\n",
    "renamed_df.head()"
   ]
  },
  {
   "cell_type": "code",
   "execution_count": null,
   "metadata": {},
   "outputs": [],
   "source": [
    "new_df = reduced_df[(reduced_df['Year'] == 2021)]\n",
    "new_df.head()"
   ]
  },
  {
   "cell_type": "code",
   "execution_count": null,
   "metadata": {},
   "outputs": [],
   "source": [
    "LEx = reduced_df[\"LEx\"]\n",
    "LE15 = reduced_df[\"LE15\"]\n",
    "LE65 = reduced_df[\"LE65\"]\n",
    "LE80 = reduced_df [\"LE80\"]\n",
    "energy_per_capita = reduced_df[\"energy_per_capita\"]\n",
    "x_axis = energy_per_capita"
   ]
  },
  {
   "cell_type": "code",
   "execution_count": null,
   "metadata": {},
   "outputs": [],
   "source": [
    "# graphs/plots\n",
    "plt.scatter(x_axis, LEx, marker=\"x\", s=1, label = \"Life expectancy at birth\")\n",
    "plt.scatter(x_axis, LE15, marker=\"x\", s=1, label = \"Life expectancy at age 15\")\n",
    "plt.scatter(x_axis, LE65, marker=\"x\", s=1, label = \"Life expectancy at age 65\")\n",
    "plt.scatter(x_axis, LE80, marker=\"x\", s=1, label = \"Life expectancy at age 80\")\n",
    "\n",
    "plt.title(\"Life Expectancy vs. Per Capita Energy Consumption (2021)\")\n",
    "plt.xlabel(\"kWh Energy Consumption Per Capita (Global)\")\n",
    "plt.ylabel(\"Life Expectancy\")\n",
    "\n",
    "plt.legend(loc='best')"
   ]
  }
 ],
 "metadata": {
  "kernelspec": {
   "display_name": "dev",
   "language": "python",
   "name": "python3"
  },
  "language_info": {
   "codemirror_mode": {
    "name": "ipython",
    "version": 3
   },
   "file_extension": ".py",
   "mimetype": "text/x-python",
   "name": "python",
   "nbconvert_exporter": "python",
   "pygments_lexer": "ipython3",
   "version": "3.10.12"
  },
  "orig_nbformat": 4
 },
 "nbformat": 4,
 "nbformat_minor": 2
}
